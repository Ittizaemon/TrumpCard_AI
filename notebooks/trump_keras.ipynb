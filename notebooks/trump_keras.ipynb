{
 "cells": [
  {
   "cell_type": "code",
   "execution_count": 1,
   "id": "dad6ff8d-d9b4-4c45-b4d7-2eb29e582a78",
   "metadata": {},
   "outputs": [
    {
     "name": "stderr",
     "output_type": "stream",
     "text": [
      "2023-12-22 02:22:33.113008: I tensorflow/core/util/port.cc:113] oneDNN custom operations are on. You may see slightly different numerical results due to floating-point round-off errors from different computation orders. To turn them off, set the environment variable `TF_ENABLE_ONEDNN_OPTS=0`.\n",
      "2023-12-22 02:22:33.289268: E external/local_xla/xla/stream_executor/cuda/cuda_dnn.cc:9261] Unable to register cuDNN factory: Attempting to register factory for plugin cuDNN when one has already been registered\n",
      "2023-12-22 02:22:33.289300: E external/local_xla/xla/stream_executor/cuda/cuda_fft.cc:607] Unable to register cuFFT factory: Attempting to register factory for plugin cuFFT when one has already been registered\n",
      "2023-12-22 02:22:33.315081: E external/local_xla/xla/stream_executor/cuda/cuda_blas.cc:1515] Unable to register cuBLAS factory: Attempting to register factory for plugin cuBLAS when one has already been registered\n",
      "2023-12-22 02:22:33.373178: I tensorflow/core/platform/cpu_feature_guard.cc:182] This TensorFlow binary is optimized to use available CPU instructions in performance-critical operations.\n",
      "To enable the following instructions: AVX2 AVX_VNNI FMA, in other operations, rebuild TensorFlow with the appropriate compiler flags.\n",
      "2023-12-22 02:22:34.377104: W tensorflow/compiler/tf2tensorrt/utils/py_utils.cc:38] TF-TRT Warning: Could not find TensorRT\n"
     ]
    }
   ],
   "source": [
    "import matplotlib.pyplot as plt\n",
    "import glob\n",
    "import cv2\n",
    "import pandas as pd\n",
    "import numpy as np\n",
    "from sklearn.model_selection import train_test_split\n",
    "import tensorflow as tf\n",
    "from tensorflow import keras\n",
    "from keras import layers, models\n",
    "from keras.utils import to_categorical"
   ]
  },
  {
   "cell_type": "code",
   "execution_count": 2,
   "id": "7c3b6f9a-166c-4b68-969d-949855a8526c",
   "metadata": {},
   "outputs": [
    {
     "name": "stderr",
     "output_type": "stream",
     "text": [
      "2023-12-22 02:22:35.412311: I external/local_xla/xla/stream_executor/cuda/cuda_executor.cc:887] could not open file to read NUMA node: /sys/bus/pci/devices/0000:01:00.0/numa_node\n",
      "Your kernel may have been built without NUMA support.\n",
      "2023-12-22 02:22:35.515676: I external/local_xla/xla/stream_executor/cuda/cuda_executor.cc:887] could not open file to read NUMA node: /sys/bus/pci/devices/0000:01:00.0/numa_node\n",
      "Your kernel may have been built without NUMA support.\n",
      "2023-12-22 02:22:35.515731: I external/local_xla/xla/stream_executor/cuda/cuda_executor.cc:887] could not open file to read NUMA node: /sys/bus/pci/devices/0000:01:00.0/numa_node\n",
      "Your kernel may have been built without NUMA support.\n"
     ]
    },
    {
     "data": {
      "text/plain": [
       "[PhysicalDevice(name='/physical_device:GPU:0', device_type='GPU')]"
      ]
     },
     "execution_count": 2,
     "metadata": {},
     "output_type": "execute_result"
    }
   ],
   "source": [
    "tf.config.list_physical_devices('GPU')"
   ]
  },
  {
   "cell_type": "code",
   "execution_count": 3,
   "id": "f244f764-24ee-400f-b31b-f761f1f4a0db",
   "metadata": {},
   "outputs": [],
   "source": [
    "#データ準備\n",
    "train_img_dir = \"train-data\"\n",
    "\n",
    "files = glob.glob(train_img_dir + \"/Resized/*.jpg\")   #.jpgのパスを取得\n",
    "files = sorted(files)\n",
    "df_label = pd.read_csv(train_img_dir + \"/hoge3.csv\")"
   ]
  },
  {
   "cell_type": "code",
   "execution_count": 4,
   "id": "7c211b12-7f0b-4e50-b41e-cbf5130e59c6",
   "metadata": {},
   "outputs": [],
   "source": [
    "# file_pathとcsv行を抽出する\n",
    "def inexclusion(num: int):\n",
    "  return files[:num], df_label.head(num)"
   ]
  },
  {
   "cell_type": "code",
   "execution_count": 5,
   "id": "1b90e8e4-6773-41ac-a9c5-217aad15bc15",
   "metadata": {},
   "outputs": [],
   "source": [
    "#ファイルを1000個まで抽出する（データが膨大なため）\n",
    "# files, df_label = inexclusion(2000)"
   ]
  },
  {
   "cell_type": "code",
   "execution_count": 6,
   "id": "7e1a5478-5451-42ab-8df1-229c3029a65a",
   "metadata": {},
   "outputs": [
    {
     "name": "stdout",
     "output_type": "stream",
     "text": [
      "2757 2757\n"
     ]
    }
   ],
   "source": [
    "#リストに格納\n",
    "file_list = []\n",
    "for file in files:\n",
    "  f = cv2.imread(file)\n",
    "  f = cv2.resize(f, (256, 256))\n",
    "  file_list.append(f)\n",
    "\n",
    "#要素数の確認\n",
    "print(len(file_list),len(df_label))"
   ]
  },
  {
   "cell_type": "code",
   "execution_count": 7,
   "id": "3fea8068-c00b-4e53-a56a-4f8e7391f470",
   "metadata": {},
   "outputs": [
    {
     "name": "stdout",
     "output_type": "stream",
     "text": [
      "2205 552 2205 552\n"
     ]
    }
   ],
   "source": [
    "#画素値を正規化\n",
    "file_list = [file.astype(float)/255 for file in file_list]\n",
    "train_x, valid_x, train_y, valid_y = train_test_split(file_list, df_label, test_size=0.2)\n",
    "\n",
    "print(len(train_x),len(valid_x),len(train_y),len(valid_y))"
   ]
  },
  {
   "cell_type": "code",
   "execution_count": 8,
   "id": "317fc476-2865-42f0-aa91-dacdb4312836",
   "metadata": {},
   "outputs": [
    {
     "data": {
      "text/plain": [
       "52"
      ]
     },
     "execution_count": 8,
     "metadata": {},
     "output_type": "execute_result"
    }
   ],
   "source": [
    "#クラス数（見分けたい種類）を指定csvファイルに依存\n",
    "num_classes = df_label[\"card_status\"].nunique()\n",
    "num_classes"
   ]
  },
  {
   "cell_type": "code",
   "execution_count": 9,
   "id": "4e3ecedd-3dd2-48ef-a464-9d305a21e07c",
   "metadata": {},
   "outputs": [],
   "source": [
    "# train_y, valid_y をダミー変数化\n",
    "train_y = to_categorical(train_y[\"card_status\"])\n",
    "valid_y = to_categorical(valid_y[\"card_status\"])"
   ]
  },
  {
   "cell_type": "code",
   "execution_count": 10,
   "id": "0a647764-39f0-43bc-875f-360415d6338f",
   "metadata": {},
   "outputs": [
    {
     "name": "stdout",
     "output_type": "stream",
     "text": [
      "(2205, 52)\n"
     ]
    }
   ],
   "source": [
    "print(train_y.shape)"
   ]
  },
  {
   "cell_type": "code",
   "execution_count": 11,
   "id": "09ce6fce-4ba6-4c57-9e7d-30ac8eb33272",
   "metadata": {},
   "outputs": [
    {
     "name": "stdout",
     "output_type": "stream",
     "text": [
      "(552, 52)\n"
     ]
    }
   ],
   "source": [
    "print(valid_y.shape)"
   ]
  },
  {
   "cell_type": "code",
   "execution_count": 12,
   "id": "8280dcbe-ad70-4467-9700-09efcf110ba6",
   "metadata": {},
   "outputs": [],
   "source": [
    "# リスト型を配列型に\n",
    "train_x = np.array(train_x)\n",
    "valid_x = np.array(valid_x)"
   ]
  },
  {
   "cell_type": "code",
   "execution_count": 13,
   "id": "dcfd3670-c29e-4926-a459-99f6c4121d6b",
   "metadata": {},
   "outputs": [
    {
     "name": "stderr",
     "output_type": "stream",
     "text": [
      "2023-12-22 02:22:42.244159: I external/local_xla/xla/stream_executor/cuda/cuda_executor.cc:887] could not open file to read NUMA node: /sys/bus/pci/devices/0000:01:00.0/numa_node\n",
      "Your kernel may have been built without NUMA support.\n",
      "2023-12-22 02:22:42.244236: I external/local_xla/xla/stream_executor/cuda/cuda_executor.cc:887] could not open file to read NUMA node: /sys/bus/pci/devices/0000:01:00.0/numa_node\n",
      "Your kernel may have been built without NUMA support.\n",
      "2023-12-22 02:22:42.244254: I external/local_xla/xla/stream_executor/cuda/cuda_executor.cc:887] could not open file to read NUMA node: /sys/bus/pci/devices/0000:01:00.0/numa_node\n",
      "Your kernel may have been built without NUMA support.\n",
      "2023-12-22 02:22:42.454994: I external/local_xla/xla/stream_executor/cuda/cuda_executor.cc:887] could not open file to read NUMA node: /sys/bus/pci/devices/0000:01:00.0/numa_node\n",
      "Your kernel may have been built without NUMA support.\n",
      "2023-12-22 02:22:42.455048: I external/local_xla/xla/stream_executor/cuda/cuda_executor.cc:887] could not open file to read NUMA node: /sys/bus/pci/devices/0000:01:00.0/numa_node\n",
      "Your kernel may have been built without NUMA support.\n",
      "2023-12-22 02:22:42.455053: I tensorflow/core/common_runtime/gpu/gpu_device.cc:2022] Could not identify NUMA node of platform GPU id 0, defaulting to 0.  Your kernel may not have been built with NUMA support.\n",
      "2023-12-22 02:22:42.455075: I external/local_xla/xla/stream_executor/cuda/cuda_executor.cc:887] could not open file to read NUMA node: /sys/bus/pci/devices/0000:01:00.0/numa_node\n",
      "Your kernel may have been built without NUMA support.\n",
      "2023-12-22 02:22:42.455087: I tensorflow/core/common_runtime/gpu/gpu_device.cc:1929] Created device /job:localhost/replica:0/task:0/device:GPU:0 with 5606 MB memory:  -> device: 0, name: NVIDIA GeForce RTX 3060 Ti, pci bus id: 0000:01:00.0, compute capability: 8.6\n"
     ]
    }
   ],
   "source": [
    "#層の定義\n",
    "model = models.Sequential()\n",
    "model.add(layers.Conv2D(32, (3, 3), activation='relu', input_shape=(256, 256, 3)))\n",
    "model.add(layers.MaxPooling2D((2, 2)))\n",
    "model.add(layers.Conv2D(64, (3, 3), activation='relu'))\n",
    "model.add(layers.MaxPooling2D((2, 2)))\n",
    "model.add(layers.Conv2D(64, (3, 3), activation='relu'))\n",
    "model.add(layers.Flatten())\n",
    "model.add(layers.Dense(64, activation='relu'))\n",
    "model.add(layers.Dense(num_classes, activation='softmax'))"
   ]
  },
  {
   "cell_type": "code",
   "execution_count": 14,
   "id": "b720b587-e666-4b6d-a85c-232aa19694e9",
   "metadata": {},
   "outputs": [],
   "source": [
    "# モデルを構築\n",
    "model.compile(optimizer=tf.optimizers.Adam(0.01), loss='categorical_crossentropy', metrics=['accuracy'])"
   ]
  },
  {
   "cell_type": "code",
   "execution_count": 15,
   "id": "04240360-eb5a-4e80-935c-4b4e21ece8b1",
   "metadata": {},
   "outputs": [
    {
     "name": "stdout",
     "output_type": "stream",
     "text": [
      "Epoch 1/100\n"
     ]
    },
    {
     "name": "stderr",
     "output_type": "stream",
     "text": [
      "2023-12-22 02:23:07.367886: I external/local_xla/xla/stream_executor/cuda/cuda_dnn.cc:454] Loaded cuDNN version 8904\n",
      "2023-12-22 02:23:07.993048: I external/local_xla/xla/service/service.cc:168] XLA service 0x151be910bb20 initialized for platform CUDA (this does not guarantee that XLA will be used). Devices:\n",
      "2023-12-22 02:23:07.993069: I external/local_xla/xla/service/service.cc:176]   StreamExecutor device (0): NVIDIA GeForce RTX 3060 Ti, Compute Capability 8.6\n",
      "2023-12-22 02:23:08.002940: I tensorflow/compiler/mlir/tensorflow/utils/dump_mlir_util.cc:269] disabling MLIR crash reproducer, set env var `MLIR_CRASH_REPRODUCER_DIRECTORY` to enable.\n",
      "WARNING: All log messages before absl::InitializeLog() is called are written to STDERR\n",
      "I0000 00:00:1703211788.101943     155 device_compiler.h:186] Compiled cluster using XLA!  This line is logged at most once for the lifetime of the process.\n"
     ]
    },
    {
     "name": "stdout",
     "output_type": "stream",
     "text": [
      "221/221 [==============================] - 8s 22ms/step - loss: 6.5899 - accuracy: 0.0358 - val_loss: 3.9609 - val_accuracy: 0.0272\n",
      "Epoch 2/100\n",
      "221/221 [==============================] - 3s 16ms/step - loss: 3.9498 - accuracy: 0.0399 - val_loss: 3.9664 - val_accuracy: 0.0272\n",
      "Epoch 3/100\n",
      "221/221 [==============================] - 3s 15ms/step - loss: 3.9495 - accuracy: 0.0399 - val_loss: 3.9695 - val_accuracy: 0.0272\n",
      "Epoch 4/100\n",
      "221/221 [==============================] - 3s 16ms/step - loss: 3.9495 - accuracy: 0.0399 - val_loss: 3.9666 - val_accuracy: 0.0272\n",
      "Epoch 5/100\n",
      "221/221 [==============================] - 3s 15ms/step - loss: 3.9496 - accuracy: 0.0399 - val_loss: 3.9688 - val_accuracy: 0.0272\n",
      "Epoch 6/100\n",
      "221/221 [==============================] - 3s 15ms/step - loss: 3.9493 - accuracy: 0.0399 - val_loss: 3.9715 - val_accuracy: 0.0272\n",
      "Epoch 7/100\n",
      "221/221 [==============================] - 3s 15ms/step - loss: 3.9496 - accuracy: 0.0399 - val_loss: 3.9694 - val_accuracy: 0.0272\n",
      "Epoch 8/100\n",
      "221/221 [==============================] - 3s 16ms/step - loss: 3.9490 - accuracy: 0.0399 - val_loss: 3.9686 - val_accuracy: 0.0272\n",
      "Epoch 9/100\n",
      "221/221 [==============================] - 3s 15ms/step - loss: 3.9502 - accuracy: 0.0399 - val_loss: 3.9699 - val_accuracy: 0.0272\n",
      "Epoch 10/100\n",
      "221/221 [==============================] - 3s 15ms/step - loss: 3.9490 - accuracy: 0.0399 - val_loss: 3.9698 - val_accuracy: 0.0272\n",
      "Epoch 11/100\n",
      "221/221 [==============================] - 3s 16ms/step - loss: 3.9497 - accuracy: 0.0399 - val_loss: 3.9684 - val_accuracy: 0.0272\n",
      "Epoch 11: early stopping\n"
     ]
    }
   ],
   "source": [
    "# Early stoppingを適用してフィッティング\n",
    "\n",
    "log = model.fit(train_x, train_y, epochs=100, batch_size=10, verbose=True,\n",
    "                callbacks=[keras.callbacks.EarlyStopping(monitor='val_loss',\n",
    "                  min_delta=0, patience=10,verbose=1)],\n",
    "                validation_data=(valid_x, valid_y))"
   ]
  },
  {
   "cell_type": "code",
   "execution_count": 16,
   "id": "180aeefe-64d3-4a72-8d89-5a4cbd539ceb",
   "metadata": {},
   "outputs": [
    {
     "name": "stdout",
     "output_type": "stream",
     "text": [
      "Model: \"sequential\"\n",
      "_________________________________________________________________\n",
      " Layer (type)                Output Shape              Param #   \n",
      "=================================================================\n",
      " conv2d (Conv2D)             (None, 254, 254, 32)      896       \n",
      "                                                                 \n",
      " max_pooling2d (MaxPooling2  (None, 127, 127, 32)      0         \n",
      " D)                                                              \n",
      "                                                                 \n",
      " conv2d_1 (Conv2D)           (None, 125, 125, 64)      18496     \n",
      "                                                                 \n",
      " max_pooling2d_1 (MaxPoolin  (None, 62, 62, 64)        0         \n",
      " g2D)                                                            \n",
      "                                                                 \n",
      " conv2d_2 (Conv2D)           (None, 60, 60, 64)        36928     \n",
      "                                                                 \n",
      " flatten (Flatten)           (None, 230400)            0         \n",
      "                                                                 \n",
      " dense (Dense)               (None, 64)                14745664  \n",
      "                                                                 \n",
      " dense_1 (Dense)             (None, 52)                3380      \n",
      "                                                                 \n",
      "=================================================================\n",
      "Total params: 14805364 (56.48 MB)\n",
      "Trainable params: 14805364 (56.48 MB)\n",
      "Non-trainable params: 0 (0.00 Byte)\n",
      "_________________________________________________________________\n"
     ]
    }
   ],
   "source": [
    "#学習の状態確認\n",
    "model.summary()"
   ]
  },
  {
   "cell_type": "code",
   "execution_count": 21,
   "id": "253f1f5d-9e7d-4eb1-ac4e-141f99d58820",
   "metadata": {},
   "outputs": [
    {
     "name": "stdout",
     "output_type": "stream",
     "text": [
      "INFO:tensorflow:Assets written to: models/model_1222/assets\n"
     ]
    },
    {
     "name": "stderr",
     "output_type": "stream",
     "text": [
      "INFO:tensorflow:Assets written to: models/model_1222/assets\n"
     ]
    }
   ],
   "source": [
    "#モデルの保存\n",
    "model_name = 'model_1222'\n",
    "model.save(\"models/\" + model_name)"
   ]
  },
  {
   "cell_type": "code",
   "execution_count": 18,
   "id": "1951813a-7800-40da-862f-ccc239c71343",
   "metadata": {},
   "outputs": [
    {
     "name": "stdout",
     "output_type": "stream",
     "text": [
      "Accuracy 0.03\n"
     ]
    }
   ],
   "source": [
    "loss,accuracy = model.evaluate(valid_x,valid_y,verbose = 0)\n",
    "print('Accuracy','{:.2f}'.format(accuracy))"
   ]
  },
  {
   "cell_type": "code",
   "execution_count": 19,
   "id": "34131a65-fc94-45fd-8659-a700c0f6f256",
   "metadata": {},
   "outputs": [
    {
     "ename": "NameError",
     "evalue": "name 'img_dir' is not defined",
     "output_type": "error",
     "traceback": [
      "\u001b[0;31m---------------------------------------------------------------------------\u001b[0m",
      "\u001b[0;31mNameError\u001b[0m                                 Traceback (most recent call last)",
      "Cell \u001b[0;32mIn[19], line 2\u001b[0m\n\u001b[1;32m      1\u001b[0m \u001b[38;5;66;03m#推論画像の読み込み\u001b[39;00m\n\u001b[0;32m----> 2\u001b[0m files \u001b[38;5;241m=\u001b[39m glob\u001b[38;5;241m.\u001b[39mglob(\u001b[43mimg_dir\u001b[49m \u001b[38;5;241m+\u001b[39m \u001b[38;5;124m\"\u001b[39m\u001b[38;5;124m/*.jpg\u001b[39m\u001b[38;5;124m\"\u001b[39m)\n\u001b[1;32m      3\u001b[0m last_file \u001b[38;5;241m=\u001b[39m files[::\u001b[38;5;241m-\u001b[39m\u001b[38;5;241m1\u001b[39m][\u001b[38;5;241m0\u001b[39m]\n",
      "\u001b[0;31mNameError\u001b[0m: name 'img_dir' is not defined"
     ]
    }
   ],
   "source": [
    "#推論画像の読み込み\n",
    "files = glob.glob(img_dir + \"/*.jpg\")\n",
    "last_file = files[::-1][0]"
   ]
  },
  {
   "cell_type": "code",
   "execution_count": 18,
   "id": "4afe3aee-732d-47c6-ab02-32f34dffaff2",
   "metadata": {},
   "outputs": [],
   "source": [
    "#保存済みのモデルの読み込み\n",
    "new_model = tf.keras.models.load_model(model_name)"
   ]
  },
  {
   "cell_type": "code",
   "execution_count": 19,
   "id": "e86b5112-c595-489e-9904-443a334cabe3",
   "metadata": {},
   "outputs": [
    {
     "name": "stdout",
     "output_type": "stream",
     "text": [
      "Resized/s-5S23.jpg Resized/s-9C39.jpg\n"
     ]
    }
   ],
   "source": [
    "#推論画像のパスの表示（人間用）\n",
    "print(last_file,files[0])"
   ]
  },
  {
   "cell_type": "code",
   "execution_count": 20,
   "id": "078a7703-4283-42dd-9561-68283d332b15",
   "metadata": {},
   "outputs": [
    {
     "data": {
      "image/jpeg": "[encoded data removed]",
      "image/png": "[encoded data removed]",
      "text/plain": [
       "<PIL.Image.Image image mode=RGB size=256x256>"
      ]
     },
     "execution_count": 20,
     "metadata": {},
     "output_type": "execute_result"
    }
   ],
   "source": [
    "#推論画像の格納、配列化、表示\n",
    "img = tf.keras.preprocessing.image.load_img(last_file, target_size=(256, 256, 3))\n",
    "img_array = tf.keras.preprocessing.image.img_to_array(img)\n",
    "img_array = tf.expand_dims(img_array, 0)\n",
    "img_array = tf.keras.applications.mobilenet_v2.preprocess_input(img_array)\n",
    "\n",
    "img"
   ]
  },
  {
   "cell_type": "code",
   "execution_count": 21,
   "id": "569a3f4f-5166-4163-99f4-a748d0d97e0e",
   "metadata": {},
   "outputs": [
    {
     "name": "stderr",
     "output_type": "stream",
     "text": [
      "UsageError: Line magic function `%%time` not found.\n"
     ]
    }
   ],
   "source": [
    "#推論開始\n",
    "%%time\n",
    "result = np.argmax(new_model.predict(img_array))"
   ]
  },
  {
   "cell_type": "code",
   "execution_count": 22,
   "id": "a309f28f-7ffa-4bda-a122-f2ed11737fd8",
   "metadata": {},
   "outputs": [
    {
     "ename": "NameError",
     "evalue": "name 'result' is not defined",
     "output_type": "error",
     "traceback": [
      "\u001b[0;31m---------------------------------------------------------------------------\u001b[0m",
      "\u001b[0;31mNameError\u001b[0m                                 Traceback (most recent call last)",
      "Cell \u001b[0;32mIn[22], line 2\u001b[0m\n\u001b[1;32m      1\u001b[0m \u001b[38;5;66;03m# train.csv等のgender_statusの値と等しい(gender_statusが0始まりだから)\u001b[39;00m\n\u001b[0;32m----> 2\u001b[0m \u001b[43mresult\u001b[49m\n",
      "\u001b[0;31mNameError\u001b[0m: name 'result' is not defined"
     ]
    }
   ],
   "source": [
    "# train.csv等のgender_statusの値と等しい(gender_statusが0始まりだから)\n",
    "result"
   ]
  },
  {
   "cell_type": "code",
   "execution_count": null,
   "id": "e415f7e9-eeb8-44f6-886c-ee06ddfcfbe8",
   "metadata": {},
   "outputs": [],
   "source": []
  }
 ],
 "metadata": {
  "kernelspec": {
   "display_name": "Python 3 (ipykernel)",
   "language": "python",
   "name": "python3"
  },
  "language_info": {
   "codemirror_mode": {
    "name": "ipython",
    "version": 3
   },
   "file_extension": ".py",
   "mimetype": "text/x-python",
   "name": "python",
   "nbconvert_exporter": "python",
   "pygments_lexer": "ipython3",
   "version": "3.10.13"
  }
 },
 "nbformat": 4,
 "nbformat_minor": 5
}
