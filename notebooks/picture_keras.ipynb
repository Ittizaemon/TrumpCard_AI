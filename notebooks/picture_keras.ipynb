{
 "cells": [
  {
   "cell_type": "code",
   "execution_count": 1,
   "id": "4fce84c5-cd1f-4630-a394-05f1fb39a774",
   "metadata": {},
   "outputs": [
    {
     "name": "stderr",
     "output_type": "stream",
     "text": [
      "2023-12-25 03:04:42.189787: I tensorflow/core/util/port.cc:113] oneDNN custom operations are on. You may see slightly different numerical results due to floating-point round-off errors from different computation orders. To turn them off, set the environment variable `TF_ENABLE_ONEDNN_OPTS=0`.\n",
      "2023-12-25 03:04:42.214616: E external/local_xla/xla/stream_executor/cuda/cuda_dnn.cc:9261] Unable to register cuDNN factory: Attempting to register factory for plugin cuDNN when one has already been registered\n",
      "2023-12-25 03:04:42.214630: E external/local_xla/xla/stream_executor/cuda/cuda_fft.cc:607] Unable to register cuFFT factory: Attempting to register factory for plugin cuFFT when one has already been registered\n",
      "2023-12-25 03:04:42.215221: E external/local_xla/xla/stream_executor/cuda/cuda_blas.cc:1515] Unable to register cuBLAS factory: Attempting to register factory for plugin cuBLAS when one has already been registered\n",
      "2023-12-25 03:04:42.219889: I tensorflow/core/platform/cpu_feature_guard.cc:182] This TensorFlow binary is optimized to use available CPU instructions in performance-critical operations.\n",
      "To enable the following instructions: AVX2 AVX_VNNI FMA, in other operations, rebuild TensorFlow with the appropriate compiler flags.\n",
      "2023-12-25 03:04:42.816836: W tensorflow/compiler/tf2tensorrt/utils/py_utils.cc:38] TF-TRT Warning: Could not find TensorRT\n"
     ]
    },
    {
     "name": "stdout",
     "output_type": "stream",
     "text": [
      "2500 2500\n"
     ]
    }
   ],
   "source": [
    "import matplotlib.pyplot as plt\n",
    "import glob\n",
    "import cv2\n",
    "import pandas as pd\n",
    "import numpy as np\n",
    "from sklearn.model_selection import train_test_split\n",
    "import tensorflow as tf\n",
    "from tensorflow import keras\n",
    "from tensorflow.keras import layers, models\n",
    "from tensorflow.keras.utils import to_categorical\n",
    "\n",
    "tf.config.list_physical_devices('GPU')\n",
    "\n",
    "#データ準備\n",
    "path = \"train-data/\"\n",
    "\n",
    "files = glob.glob(path + \"train/*.jpg\")   #.jpgのパスを取得\n",
    "files = sorted(files)\n",
    "df_label = pd.read_csv(path + \"train.csv\")\n",
    "\n",
    "# file_pathとcsv行を抽出する\n",
    "def inexclusion(num: int):\n",
    "  return files[:num], df_label.head(num)\n",
    "\n",
    "files, df_label = inexclusion(2500)\n",
    "\n",
    "file_list = []\n",
    "for file in files:\n",
    "  file = cv2.imread(file)\n",
    "  file_list.append(file)\n",
    "\n",
    "#要素数の確認\n",
    "print(len(file_list),len(df_label))"
   ]
  },
  {
   "cell_type": "code",
   "execution_count": 2,
   "id": "14c40a27-2b08-466c-987f-7c02fd659e8f",
   "metadata": {},
   "outputs": [
    {
     "name": "stdout",
     "output_type": "stream",
     "text": [
      "CPU times: user 672 ms, sys: 1.4 s, total: 2.08 s\n",
      "Wall time: 2.07 s\n"
     ]
    }
   ],
   "source": [
    "%%time\n",
    "\n",
    "#画素値を正規化\n",
    "file_list = [file.astype(float)/255 for file in file_list]\n",
    "train_x, valid_x, train_y, valid_y = train_test_split(file_list, df_label, test_size=0.2)\n",
    "\n",
    "# train_y, valid_y をダミー変数化\n",
    "train_y = to_categorical(train_y[\"gender_status\"])\n",
    "valid_y = to_categorical(valid_y[\"gender_status\"])\n",
    "\n",
    "# リスト型を配列型に\n",
    "train_x = np.array(train_x)\n",
    "valid_x = np.array(valid_x)"
   ]
  },
  {
   "cell_type": "code",
   "execution_count": 3,
   "id": "b175186c-e8d1-4880-ab87-6decf46858bd",
   "metadata": {},
   "outputs": [],
   "source": [
    "#層の定義\n",
    "model = models.Sequential()\n",
    "model.add(layers.Conv2D(32, (3, 3), activation='relu', input_shape=(256, 256, 3)))\n",
    "model.add(layers.MaxPooling2D((2, 2)))\n",
    "model.add(layers.Conv2D(64, (3, 3), activation='relu'))\n",
    "model.add(layers.MaxPooling2D((2, 2)))\n",
    "model.add(layers.Conv2D(64, (3, 3), activation='relu'))\n",
    "model.add(layers.Flatten())\n",
    "model.add(layers.Dense(64, activation='relu'))\n",
    "model.add(layers.Dense(8, activation='softmax'))\n",
    "\n",
    "# モデルを構築\n",
    "model.compile(optimizer=tf.optimizers.Adam(0.01), loss='categorical_crossentropy', metrics=['accuracy'])\n"
   ]
  },
  {
   "cell_type": "code",
   "execution_count": 4,
   "id": "15efc463-268a-42f2-9c0f-e9003a561506",
   "metadata": {},
   "outputs": [
    {
     "name": "stdout",
     "output_type": "stream",
     "text": [
      "Epoch 1/100\n",
      "200/200 [==============================] - 35s 172ms/step - loss: 3.8795 - accuracy: 0.2730 - val_loss: 1.6605 - val_accuracy: 0.2880\n",
      "Epoch 2/100\n",
      "200/200 [==============================] - 32s 158ms/step - loss: 1.6141 - accuracy: 0.2800 - val_loss: 1.6559 - val_accuracy: 0.2680\n",
      "Epoch 3/100\n",
      "200/200 [==============================] - 31s 156ms/step - loss: 1.6135 - accuracy: 0.2885 - val_loss: 1.6543 - val_accuracy: 0.2880\n",
      "Epoch 4/100\n",
      "200/200 [==============================] - 31s 156ms/step - loss: 1.6145 - accuracy: 0.2755 - val_loss: 1.6555 - val_accuracy: 0.2680\n",
      "Epoch 5/100\n",
      "200/200 [==============================] - 31s 157ms/step - loss: 1.6142 - accuracy: 0.2925 - val_loss: 1.6539 - val_accuracy: 0.2880\n",
      "Epoch 6/100\n",
      "200/200 [==============================] - 31s 156ms/step - loss: 1.6130 - accuracy: 0.3030 - val_loss: 1.6578 - val_accuracy: 0.2680\n",
      "Epoch 7/100\n",
      "200/200 [==============================] - 31s 156ms/step - loss: 1.6157 - accuracy: 0.3060 - val_loss: 1.6570 - val_accuracy: 0.2680\n",
      "Epoch 8/100\n",
      "200/200 [==============================] - 31s 157ms/step - loss: 1.6134 - accuracy: 0.2995 - val_loss: 1.6633 - val_accuracy: 0.2880\n",
      "Epoch 9/100\n",
      "200/200 [==============================] - 31s 157ms/step - loss: 1.6133 - accuracy: 0.2825 - val_loss: 1.6542 - val_accuracy: 0.2680\n",
      "Epoch 10/100\n",
      "200/200 [==============================] - 31s 156ms/step - loss: 1.6139 - accuracy: 0.2900 - val_loss: 1.6655 - val_accuracy: 0.2680\n",
      "Epoch 11/100\n",
      "200/200 [==============================] - 31s 158ms/step - loss: 1.6134 - accuracy: 0.2970 - val_loss: 1.6595 - val_accuracy: 0.2880\n",
      "Epoch 12/100\n",
      "200/200 [==============================] - 31s 157ms/step - loss: 1.6134 - accuracy: 0.2820 - val_loss: 1.6647 - val_accuracy: 0.2880\n",
      "Epoch 13/100\n",
      "200/200 [==============================] - 32s 158ms/step - loss: 1.6125 - accuracy: 0.2910 - val_loss: 1.6613 - val_accuracy: 0.2680\n",
      "Epoch 14/100\n",
      "200/200 [==============================] - 31s 157ms/step - loss: 1.6131 - accuracy: 0.2975 - val_loss: 1.6643 - val_accuracy: 0.2680\n",
      "Epoch 15/100\n",
      "200/200 [==============================] - 32s 158ms/step - loss: 1.6151 - accuracy: 0.2990 - val_loss: 1.6658 - val_accuracy: 0.2880\n",
      "Epoch 15: early stopping\n",
      "CPU times: user 1h 24min 41s, sys: 28.9 s, total: 1h 25min 10s\n",
      "Wall time: 7min 55s\n"
     ]
    }
   ],
   "source": [
    "%%time\n",
    "\n",
    "# Early stoppingを適用してフィッティング\n",
    "log = model.fit(train_x, train_y, epochs=100, batch_size=10, verbose=True,\n",
    "                callbacks=[keras.callbacks.EarlyStopping(monitor='val_loss',\n",
    "                                                     min_delta=0, patience=10,\n",
    "                                                         verbose=1)],\n",
    "                validation_data=(valid_x, valid_y))"
   ]
  },
  {
   "cell_type": "code",
   "execution_count": 5,
   "id": "de5b08e1-5be1-45a1-986c-9b284a7fdf75",
   "metadata": {},
   "outputs": [
    {
     "name": "stdout",
     "output_type": "stream",
     "text": [
      "Accuracy 0.29\n"
     ]
    }
   ],
   "source": [
    "loss,accuracy = model.evaluate(valid_x,valid_y,verbose = 0)\n",
    "print('Accuracy','{:.2f}'.format(accuracy))"
   ]
  },
  {
   "cell_type": "code",
   "execution_count": null,
   "id": "d3225cf5-8e9a-4e2f-b775-4ad299312c69",
   "metadata": {},
   "outputs": [],
   "source": []
  }
 ],
 "metadata": {
  "kernelspec": {
   "display_name": "Python 3 (ipykernel)",
   "language": "python",
   "name": "python3"
  },
  "language_info": {
   "codemirror_mode": {
    "name": "ipython",
    "version": 3
   },
   "file_extension": ".py",
   "mimetype": "text/x-python",
   "name": "python",
   "nbconvert_exporter": "python",
   "pygments_lexer": "ipython3",
   "version": "3.10.13"
  }
 },
 "nbformat": 4,
 "nbformat_minor": 5
}
