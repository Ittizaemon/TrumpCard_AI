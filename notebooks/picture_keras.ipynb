{
 "cells": [
  {
   "cell_type": "code",
   "execution_count": 1,
   "id": "4fce84c5-cd1f-4630-a394-05f1fb39a774",
   "metadata": {},
   "outputs": [
    {
     "name": "stderr",
     "output_type": "stream",
     "text": [
      "2023-12-25 07:28:26.879874: I tensorflow/core/util/port.cc:113] oneDNN custom operations are on. You may see slightly different numerical results due to floating-point round-off errors from different computation orders. To turn them off, set the environment variable `TF_ENABLE_ONEDNN_OPTS=0`.\n",
      "2023-12-25 07:28:27.047376: E external/local_xla/xla/stream_executor/cuda/cuda_dnn.cc:9261] Unable to register cuDNN factory: Attempting to register factory for plugin cuDNN when one has already been registered\n",
      "2023-12-25 07:28:27.047399: E external/local_xla/xla/stream_executor/cuda/cuda_fft.cc:607] Unable to register cuFFT factory: Attempting to register factory for plugin cuFFT when one has already been registered\n",
      "2023-12-25 07:28:27.073368: E external/local_xla/xla/stream_executor/cuda/cuda_blas.cc:1515] Unable to register cuBLAS factory: Attempting to register factory for plugin cuBLAS when one has already been registered\n",
      "2023-12-25 07:28:27.130610: I tensorflow/core/platform/cpu_feature_guard.cc:182] This TensorFlow binary is optimized to use available CPU instructions in performance-critical operations.\n",
      "To enable the following instructions: AVX2 AVX_VNNI FMA, in other operations, rebuild TensorFlow with the appropriate compiler flags.\n",
      "2023-12-25 07:28:28.034421: W tensorflow/compiler/tf2tensorrt/utils/py_utils.cc:38] TF-TRT Warning: Could not find TensorRT\n",
      "2023-12-25 07:28:29.070931: I external/local_xla/xla/stream_executor/cuda/cuda_executor.cc:887] could not open file to read NUMA node: /sys/bus/pci/devices/0000:01:00.0/numa_node\n",
      "Your kernel may have been built without NUMA support.\n",
      "2023-12-25 07:28:29.171869: I external/local_xla/xla/stream_executor/cuda/cuda_executor.cc:887] could not open file to read NUMA node: /sys/bus/pci/devices/0000:01:00.0/numa_node\n",
      "Your kernel may have been built without NUMA support.\n",
      "2023-12-25 07:28:29.171919: I external/local_xla/xla/stream_executor/cuda/cuda_executor.cc:887] could not open file to read NUMA node: /sys/bus/pci/devices/0000:01:00.0/numa_node\n",
      "Your kernel may have been built without NUMA support.\n"
     ]
    },
    {
     "name": "stdout",
     "output_type": "stream",
     "text": [
      "4238 4238\n"
     ]
    }
   ],
   "source": [
    "import matplotlib.pyplot as plt\n",
    "import glob\n",
    "import cv2\n",
    "import pandas as pd\n",
    "import numpy as np\n",
    "from sklearn.model_selection import train_test_split\n",
    "import tensorflow as tf\n",
    "from tensorflow import keras\n",
    "from tensorflow.keras import layers, models\n",
    "from tensorflow.keras.utils import to_categorical\n",
    "\n",
    "tf.config.list_physical_devices('GPU')\n",
    "\n",
    "#データ準備\n",
    "path = \"train-data/\"\n",
    "\n",
    "files = glob.glob(path + \"train/*.jpg\")   #.jpgのパスを取得\n",
    "files = sorted(files)\n",
    "df_label = pd.read_csv(path + \"train.csv\")\n",
    "\n",
    "# file_pathとcsv行を抽出する\n",
    "def inexclusion(num: int):\n",
    "  return files[:num], df_label.head(num)\n",
    "\n",
    "files, df_label = inexclusion(5000)\n",
    "\n",
    "file_list = []\n",
    "for file in files:\n",
    "  file = cv2.imread(file)\n",
    "  file_list.append(file)\n",
    "\n",
    "#要素数の確認\n",
    "print(len(file_list),len(df_label))"
   ]
  },
  {
   "cell_type": "code",
   "execution_count": 2,
   "id": "14c40a27-2b08-466c-987f-7c02fd659e8f",
   "metadata": {},
   "outputs": [
    {
     "name": "stdout",
     "output_type": "stream",
     "text": [
      "CPU times: user 1.01 s, sys: 2.3 s, total: 3.31 s\n",
      "Wall time: 3.31 s\n"
     ]
    }
   ],
   "source": [
    "%%time\n",
    "\n",
    "#画素値を正規化\n",
    "file_list = [file.astype(float)/255 for file in file_list]\n",
    "train_x, valid_x, train_y, valid_y = train_test_split(file_list, df_label, test_size=0.2)\n",
    "\n",
    "# train_y, valid_y をダミー変数化\n",
    "train_y = to_categorical(train_y[\"gender_status\"])\n",
    "valid_y = to_categorical(valid_y[\"gender_status\"])\n",
    "\n",
    "# リスト型を配列型に\n",
    "train_x = np.array(train_x)\n",
    "valid_x = np.array(valid_x)"
   ]
  },
  {
   "cell_type": "code",
   "execution_count": 4,
   "id": "b175186c-e8d1-4880-ab87-6decf46858bd",
   "metadata": {},
   "outputs": [],
   "source": [
    "#層の定義\n",
    "model = models.Sequential()\n",
    "model.add(layers.Conv2D(32, (3, 3), activation='relu', input_shape=(256, 256, 3)))\n",
    "model.add(layers.MaxPooling2D((2, 2)))\n",
    "model.add(layers.Conv2D(64, (3, 3), activation='relu'))\n",
    "model.add(layers.MaxPooling2D((2, 2)))\n",
    "model.add(layers.Conv2D(64, (3, 3), activation='relu'))\n",
    "model.add(layers.Flatten())\n",
    "model.add(layers.Dense(64, activation='relu'))\n",
    "model.add(layers.Dense(8, activation='softmax'))\n",
    "\n",
    "# モデルを構築\n",
    "model.compile(optimizer=tf.optimizers.Adam(0.01), loss='categorical_crossentropy', metrics=['accuracy'])\n"
   ]
  },
  {
   "cell_type": "code",
   "execution_count": 5,
   "id": "15efc463-268a-42f2-9c0f-e9003a561506",
   "metadata": {},
   "outputs": [
    {
     "name": "stdout",
     "output_type": "stream",
     "text": [
      "Epoch 1/100\n"
     ]
    },
    {
     "name": "stderr",
     "output_type": "stream",
     "text": [
      "2023-12-25 07:30:14.668028: I external/local_xla/xla/stream_executor/cuda/cuda_dnn.cc:454] Loaded cuDNN version 8904\n",
      "2023-12-25 07:30:15.225824: I external/local_xla/xla/service/service.cc:168] XLA service 0x7f2cb3b004e0 initialized for platform CUDA (this does not guarantee that XLA will be used). Devices:\n",
      "2023-12-25 07:30:15.225854: I external/local_xla/xla/service/service.cc:176]   StreamExecutor device (0): NVIDIA GeForce RTX 3060 Ti, Compute Capability 8.6\n",
      "2023-12-25 07:30:15.237418: I tensorflow/compiler/mlir/tensorflow/utils/dump_mlir_util.cc:269] disabling MLIR crash reproducer, set env var `MLIR_CRASH_REPRODUCER_DIRECTORY` to enable.\n",
      "WARNING: All log messages before absl::InitializeLog() is called are written to STDERR\n",
      "I0000 00:00:1703489415.333898     146 device_compiler.h:186] Compiled cluster using XLA!  This line is logged at most once for the lifetime of the process.\n"
     ]
    },
    {
     "name": "stdout",
     "output_type": "stream",
     "text": [
      "339/339 [==============================] - 9s 17ms/step - loss: 6.0444 - accuracy: 0.2785 - val_loss: 1.6409 - val_accuracy: 0.2948\n",
      "Epoch 2/100\n",
      "339/339 [==============================] - 5s 15ms/step - loss: 1.6318 - accuracy: 0.3009 - val_loss: 1.6331 - val_accuracy: 0.3042\n",
      "Epoch 3/100\n",
      "339/339 [==============================] - 5s 15ms/step - loss: 1.6294 - accuracy: 0.2973 - val_loss: 1.5993 - val_accuracy: 0.3042\n",
      "Epoch 4/100\n",
      "339/339 [==============================] - 5s 14ms/step - loss: 1.6267 - accuracy: 0.3012 - val_loss: 1.6056 - val_accuracy: 0.3042\n",
      "Epoch 5/100\n",
      "339/339 [==============================] - 5s 14ms/step - loss: 1.6202 - accuracy: 0.3012 - val_loss: 1.6009 - val_accuracy: 0.2948\n",
      "Epoch 6/100\n",
      "339/339 [==============================] - 5s 14ms/step - loss: 1.6208 - accuracy: 0.2912 - val_loss: 1.5989 - val_accuracy: 0.3042\n",
      "Epoch 7/100\n",
      "339/339 [==============================] - 5s 14ms/step - loss: 1.6215 - accuracy: 0.2935 - val_loss: 1.5992 - val_accuracy: 0.3042\n",
      "Epoch 8/100\n",
      "339/339 [==============================] - 5s 14ms/step - loss: 1.6203 - accuracy: 0.3038 - val_loss: 1.5986 - val_accuracy: 0.3042\n",
      "Epoch 9/100\n",
      "339/339 [==============================] - 5s 14ms/step - loss: 1.6208 - accuracy: 0.3035 - val_loss: 1.6006 - val_accuracy: 0.2948\n",
      "Epoch 10/100\n",
      "339/339 [==============================] - 5s 14ms/step - loss: 1.6201 - accuracy: 0.2991 - val_loss: 1.5983 - val_accuracy: 0.3042\n",
      "Epoch 11/100\n",
      "339/339 [==============================] - 5s 14ms/step - loss: 1.6205 - accuracy: 0.2971 - val_loss: 1.5996 - val_accuracy: 0.3042\n",
      "Epoch 12/100\n",
      "339/339 [==============================] - 5s 14ms/step - loss: 1.6206 - accuracy: 0.3029 - val_loss: 1.5979 - val_accuracy: 0.3042\n",
      "Epoch 13/100\n",
      "339/339 [==============================] - 5s 14ms/step - loss: 1.6191 - accuracy: 0.2985 - val_loss: 1.6013 - val_accuracy: 0.3042\n",
      "Epoch 14/100\n",
      "339/339 [==============================] - 5s 14ms/step - loss: 1.6199 - accuracy: 0.3012 - val_loss: 1.5991 - val_accuracy: 0.3042\n",
      "Epoch 15/100\n",
      "339/339 [==============================] - 5s 14ms/step - loss: 1.6202 - accuracy: 0.2941 - val_loss: 1.5983 - val_accuracy: 0.3042\n",
      "Epoch 16/100\n",
      "339/339 [==============================] - 5s 14ms/step - loss: 1.6204 - accuracy: 0.2956 - val_loss: 1.5983 - val_accuracy: 0.3042\n",
      "Epoch 17/100\n",
      "339/339 [==============================] - 5s 14ms/step - loss: 1.6196 - accuracy: 0.2971 - val_loss: 1.6012 - val_accuracy: 0.3042\n",
      "Epoch 18/100\n",
      "339/339 [==============================] - 5s 14ms/step - loss: 1.6198 - accuracy: 0.3077 - val_loss: 1.5982 - val_accuracy: 0.3042\n",
      "Epoch 19/100\n",
      "339/339 [==============================] - 5s 14ms/step - loss: 1.6195 - accuracy: 0.3024 - val_loss: 1.5986 - val_accuracy: 0.3042\n",
      "Epoch 20/100\n",
      "339/339 [==============================] - 5s 14ms/step - loss: 1.6199 - accuracy: 0.2962 - val_loss: 1.5995 - val_accuracy: 0.3042\n",
      "Epoch 21/100\n",
      "339/339 [==============================] - 5s 14ms/step - loss: 1.6193 - accuracy: 0.2979 - val_loss: 1.5981 - val_accuracy: 0.2948\n",
      "Epoch 22/100\n",
      "339/339 [==============================] - 5s 14ms/step - loss: 1.6188 - accuracy: 0.2991 - val_loss: 1.6010 - val_accuracy: 0.3042\n",
      "Epoch 22: early stopping\n",
      "CPU times: user 1min 57s, sys: 13.1 s, total: 2min 10s\n",
      "Wall time: 1min 53s\n"
     ]
    }
   ],
   "source": [
    "%%time\n",
    "\n",
    "# Early stoppingを適用してフィッティング\n",
    "log = model.fit(train_x, train_y, epochs=100, batch_size=10, verbose=True,\n",
    "                callbacks=[keras.callbacks.EarlyStopping(monitor='val_loss',\n",
    "                                                     min_delta=0, patience=10,\n",
    "                                                         verbose=1)],\n",
    "                validation_data=(valid_x, valid_y))"
   ]
  },
  {
   "cell_type": "code",
   "execution_count": 6,
   "id": "de5b08e1-5be1-45a1-986c-9b284a7fdf75",
   "metadata": {},
   "outputs": [
    {
     "name": "stdout",
     "output_type": "stream",
     "text": [
      "Accuracy 0.30\n"
     ]
    }
   ],
   "source": [
    "loss,accuracy = model.evaluate(valid_x,valid_y,verbose = 0)\n",
    "print('Accuracy','{:.2f}'.format(accuracy))"
   ]
  },
  {
   "cell_type": "code",
   "execution_count": null,
   "id": "d3225cf5-8e9a-4e2f-b775-4ad299312c69",
   "metadata": {},
   "outputs": [],
   "source": []
  }
 ],
 "metadata": {
  "kernelspec": {
   "display_name": "Python 3 (ipykernel)",
   "language": "python",
   "name": "python3"
  },
  "language_info": {
   "codemirror_mode": {
    "name": "ipython",
    "version": 3
   },
   "file_extension": ".py",
   "mimetype": "text/x-python",
   "name": "python",
   "nbconvert_exporter": "python",
   "pygments_lexer": "ipython3",
   "version": "3.10.13"
  }
 },
 "nbformat": 4,
 "nbformat_minor": 5
}
